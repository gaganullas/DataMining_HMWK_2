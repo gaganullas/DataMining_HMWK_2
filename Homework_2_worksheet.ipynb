{
 "cells": [
  {
   "cell_type": "markdown",
   "id": "fef847a7",
   "metadata": {},
   "source": [
    "# Homework_2"
   ]
  },
  {
   "cell_type": "markdown",
   "id": "8838b159",
   "metadata": {},
   "source": [
    "# Question 1"
   ]
  },
  {
   "cell_type": "code",
   "execution_count": 42,
   "id": "6dfc999d",
   "metadata": {},
   "outputs": [],
   "source": [
    "import math\n",
    "\n",
    "def entropy(p):\n",
    "    return -p * math.log2(p) if p != 0 else 0"
   ]
  },
  {
   "cell_type": "markdown",
   "id": "f0dcdfb6",
   "metadata": {},
   "source": [
    "## Finding out root node"
   ]
  },
  {
   "cell_type": "code",
   "execution_count": 43,
   "id": "eb6c1048",
   "metadata": {},
   "outputs": [
    {
     "name": "stdout",
     "output_type": "stream",
     "text": [
      "Entropy for Smoking = Yes: 0.7219280948873623\n",
      "Entropy for Smoking = No: 0.7219280948873623\n"
     ]
    }
   ],
   "source": [
    "# For smoking\n",
    "yes_smoking_yes_cancer = 4 / 5\n",
    "yes_smoking_no_cancer = 1 / 5\n",
    "no_smoking_yes_cancer = 1 / 5\n",
    "no_smoking_no_cancer = 4 / 5\n",
    "\n",
    "# Calculate entropies\n",
    "entropy_yes_smoking = entropy(yes_smoking_yes_cancer) + entropy(yes_smoking_no_cancer)\n",
    "entropy_no_smoking = entropy(no_smoking_yes_cancer) + entropy(no_smoking_no_cancer)\n",
    "\n",
    "print(\"Entropy for Smoking = Yes:\", entropy_yes_smoking)\n",
    "print(\"Entropy for Smoking = No:\", entropy_no_smoking)\n"
   ]
  },
  {
   "cell_type": "code",
   "execution_count": 44,
   "id": "2128f50d",
   "metadata": {},
   "outputs": [
    {
     "name": "stdout",
     "output_type": "stream",
     "text": [
      "Information Gain: 0.2780719051126377\n"
     ]
    }
   ],
   "source": [
    "parent_entropy = entropy(5/10) + entropy(5/10)\n",
    "\n",
    "information_gain = 1 - ((5/10) * entropy_yes_smoking + (5/10) * entropy_no_smoking)\n",
    "\n",
    "print(\"Information Gain:\", information_gain)\n"
   ]
  },
  {
   "cell_type": "code",
   "execution_count": 45,
   "id": "20b46f97",
   "metadata": {},
   "outputs": [
    {
     "name": "stdout",
     "output_type": "stream",
     "text": [
      "Entropy for radon = Yes: 0.0\n",
      "Entropy for radon = No: 0.954434002924965\n"
     ]
    }
   ],
   "source": [
    "# For Radon\n",
    "yes_radon_yes_cancer = 2/2\n",
    "yes_radon_no_cancer = 0/2\n",
    "no_radon_yes_cancer = 3/8\n",
    "no_radon_no_cancer = 5 / 8\n",
    "\n",
    "# Calculate entropies\n",
    "entropy_yes_radon = entropy(yes_radon_yes_cancer) + entropy(yes_radon_no_cancer)\n",
    "entropy_no_radon = entropy(no_radon_yes_cancer) + entropy(no_radon_no_cancer)\n",
    "\n",
    "print(\"Entropy for radon = Yes:\", entropy_yes_radon)\n",
    "print(\"Entropy for radon = No:\", entropy_no_radon)"
   ]
  },
  {
   "cell_type": "code",
   "execution_count": 46,
   "id": "0446be0a",
   "metadata": {},
   "outputs": [
    {
     "name": "stdout",
     "output_type": "stream",
     "text": [
      "Information Gain for Radon: 0.2364527976600279\n"
     ]
    }
   ],
   "source": [
    "\n",
    "parent_entropy = entropy(5/10) + entropy(5/10)\n",
    "\n",
    "\n",
    "information_gain_radon = parent_entropy - ((2/10) * entropy_yes_radon + (8/10) * entropy_no_radon)\n",
    "\n",
    "print(\"Information Gain for Radon:\", information_gain_radon)\n"
   ]
  },
  {
   "cell_type": "code",
   "execution_count": 47,
   "id": "9c98e59c",
   "metadata": {},
   "outputs": [
    {
     "name": "stdout",
     "output_type": "stream",
     "text": [
      "Entropy for cough = Yes: 0.9852281360342515\n",
      "Entropy for cough = No: 0.9182958340544896\n"
     ]
    }
   ],
   "source": [
    "# For Chronic Cough\n",
    "yes_cough_yes_cancer = 4/7\n",
    "yes_cough_no_cancer = 3/7\n",
    "no_cough_yes_cancer = 1/3\n",
    "no_cough_no_cancer = 2/3\n",
    "\n",
    "# Calculate entropies\n",
    "entropy_yes_cough = entropy(yes_cough_yes_cancer) + entropy(yes_cough_no_cancer)\n",
    "entropy_no_cough = entropy(no_cough_yes_cancer) + entropy(no_cough_no_cancer)\n",
    "\n",
    "print(\"Entropy for cough = Yes:\", entropy_yes_cough)\n",
    "print(\"Entropy for cough = No:\", entropy_no_cough)"
   ]
  },
  {
   "cell_type": "code",
   "execution_count": 48,
   "id": "f1025ed9",
   "metadata": {},
   "outputs": [
    {
     "name": "stdout",
     "output_type": "stream",
     "text": [
      "Information Gain for cough: 0.034851554559677034\n"
     ]
    }
   ],
   "source": [
    "parent_entropy = entropy(5/10) + entropy(5/10)\n",
    "\n",
    "\n",
    "information_gain_cough = parent_entropy - ((7/10) * entropy_yes_cough + (3/10) * entropy_no_cough)\n",
    "\n",
    "print(\"Information Gain for cough:\", information_gain_cough)"
   ]
  },
  {
   "cell_type": "code",
   "execution_count": 49,
   "id": "3bb3b092",
   "metadata": {},
   "outputs": [
    {
     "name": "stdout",
     "output_type": "stream",
     "text": [
      "Entropy for Weight = Yes: 0.9709505944546686\n",
      "Entropy for Weight = No: 0.9709505944546686\n"
     ]
    }
   ],
   "source": [
    "# For Weight Loss\n",
    "yes_Weight_yes_cancer = 3/5\n",
    "yes_Weight_no_cancer = 2/5\n",
    "no_Weight_yes_cancer = 2/5\n",
    "no_Weight_no_cancer = 3/5\n",
    "\n",
    "# Calculate entropies\n",
    "entropy_yes_Weight = entropy(yes_Weight_yes_cancer) + entropy(yes_Weight_no_cancer)\n",
    "entropy_no_Weight = entropy(no_Weight_yes_cancer) + entropy(no_Weight_no_cancer)\n",
    "\n",
    "print(\"Entropy for Weight = Yes:\", entropy_yes_Weight)\n",
    "print(\"Entropy for Weight = No:\", entropy_no_Weight)"
   ]
  },
  {
   "cell_type": "code",
   "execution_count": 50,
   "id": "7eeeb2c0",
   "metadata": {},
   "outputs": [
    {
     "name": "stdout",
     "output_type": "stream",
     "text": [
      "Information Gain for Weight: 0.02904940554533142\n"
     ]
    }
   ],
   "source": [
    "parent_entropy = entropy(5/10) + entropy(5/10)\n",
    "\n",
    "\n",
    "information_gain_Weight = parent_entropy - ((5/10) * entropy_yes_Weight + (5/10) * entropy_no_Weight)\n",
    "\n",
    "print(\"Information Gain for Weight:\", information_gain_Weight)"
   ]
  },
  {
   "cell_type": "code",
   "execution_count": 51,
   "id": "5460a310",
   "metadata": {},
   "outputs": [
    {
     "name": "stdout",
     "output_type": "stream",
     "text": [
      "Information Gain for Smoking: 0.2780719051126377\n",
      "Information Gain for Radon: 0.2364527976600279\n",
      "Information Gain for cough: 0.034851554559677034\n",
      "Information Gain for Weight: 0.02904940554533142\n"
     ]
    }
   ],
   "source": [
    "print(\"Information Gain for Smoking:\", information_gain)\n",
    "print(\"Information Gain for Radon:\", information_gain_radon)\n",
    "print(\"Information Gain for cough:\", information_gain_cough)\n",
    "print(\"Information Gain for Weight:\", information_gain_Weight)"
   ]
  },
  {
   "cell_type": "markdown",
   "id": "6e441d2f",
   "metadata": {},
   "source": [
    "## Considering Smoking as root node and moving to next level"
   ]
  },
  {
   "cell_type": "markdown",
   "id": "9c6ffd5f",
   "metadata": {},
   "source": [
    "## For Smoking = Yes"
   ]
  },
  {
   "cell_type": "code",
   "execution_count": 52,
   "id": "90601ead",
   "metadata": {},
   "outputs": [
    {
     "name": "stdout",
     "output_type": "stream",
     "text": [
      "Entropy for radon = Yes: 0.0\n",
      "Entropy for radon = No: 0.8112781244591328\n"
     ]
    }
   ],
   "source": [
    "# For Radon\n",
    "yes_radon_yes_cancer = 1/1\n",
    "yes_radon_no_cancer = 0/1\n",
    "no_radon_yes_cancer = 3/4\n",
    "no_radon_no_cancer = 1/4\n",
    "\n",
    "# Calculate entropies\n",
    "entropy_yes_radon = entropy(yes_radon_yes_cancer) + entropy(yes_radon_no_cancer)\n",
    "entropy_no_radon = entropy(no_radon_yes_cancer) + entropy(no_radon_no_cancer)\n",
    "\n",
    "print(\"Entropy for radon = Yes:\", entropy_yes_radon)\n",
    "print(\"Entropy for radon = No:\", entropy_no_radon)"
   ]
  },
  {
   "cell_type": "code",
   "execution_count": 53,
   "id": "9171f176",
   "metadata": {},
   "outputs": [
    {
     "name": "stdout",
     "output_type": "stream",
     "text": [
      "Information Gain for Radon: 0.07290559532005603\n"
     ]
    }
   ],
   "source": [
    "\n",
    "parent_entropy = entropy(4/5) + entropy(1/5)\n",
    "\n",
    "information_gain_radon = parent_entropy - ((1/5) * entropy_yes_radon + (4/5) * entropy_no_radon)\n",
    "\n",
    "print(\"Information Gain for Radon:\", information_gain_radon)"
   ]
  },
  {
   "cell_type": "code",
   "execution_count": 54,
   "id": "03d747a8",
   "metadata": {},
   "outputs": [
    {
     "name": "stdout",
     "output_type": "stream",
     "text": [
      "Entropy for cough = Yes: 0.0\n",
      "Entropy for cough = No: 0.0\n"
     ]
    }
   ],
   "source": [
    "# For Chronic Cough\n",
    "yes_cough_yes_cancer = 4/4\n",
    "yes_cough_no_cancer = 0/4\n",
    "no_cough_yes_cancer = 0/1\n",
    "no_cough_no_cancer = 1/1\n",
    "\n",
    "# Calculate entropies\n",
    "entropy_yes_cough = entropy(yes_cough_yes_cancer) + entropy(yes_cough_no_cancer)\n",
    "entropy_no_cough = entropy(no_cough_yes_cancer) + entropy(no_cough_no_cancer)\n",
    "\n",
    "print(\"Entropy for cough = Yes:\", entropy_yes_cough)\n",
    "print(\"Entropy for cough = No:\", entropy_no_cough)"
   ]
  },
  {
   "cell_type": "code",
   "execution_count": 55,
   "id": "ef94742e",
   "metadata": {},
   "outputs": [
    {
     "name": "stdout",
     "output_type": "stream",
     "text": [
      "Information Gain for Radon: 0.7219280948873623\n"
     ]
    }
   ],
   "source": [
    "\n",
    "parent_entropy = entropy(4/5) + entropy(1/5)\n",
    "\n",
    "information_gain_cough = parent_entropy - ((4/5) * entropy_yes_cough + (1/5) * entropy_no_cough)\n",
    "\n",
    "print(\"Information Gain for Radon:\", information_gain_cough)"
   ]
  },
  {
   "cell_type": "code",
   "execution_count": 56,
   "id": "24800023",
   "metadata": {},
   "outputs": [
    {
     "name": "stdout",
     "output_type": "stream",
     "text": [
      "Entropy for Weight = Yes: 0.0\n",
      "Entropy for Weight = No: 0.9182958340544896\n"
     ]
    }
   ],
   "source": [
    "# For Weight Loss\n",
    "yes_Weight_yes_cancer = 2/2\n",
    "yes_Weight_no_cancer = 0/2\n",
    "no_Weight_yes_cancer = 2/3\n",
    "no_Weight_no_cancer = 1/3\n",
    "\n",
    "# Calculate entropies\n",
    "entropy_yes_Weight = entropy(yes_Weight_yes_cancer) + entropy(yes_Weight_no_cancer)\n",
    "entropy_no_Weight = entropy(no_Weight_yes_cancer) + entropy(no_Weight_no_cancer)\n",
    "\n",
    "print(\"Entropy for Weight = Yes:\", entropy_yes_Weight)\n",
    "print(\"Entropy for Weight = No:\", entropy_no_Weight)"
   ]
  },
  {
   "cell_type": "code",
   "execution_count": 57,
   "id": "1b1187d7",
   "metadata": {},
   "outputs": [
    {
     "name": "stdout",
     "output_type": "stream",
     "text": [
      "Information Gain for Weight: 0.17095059445466865\n"
     ]
    }
   ],
   "source": [
    "parent_entropy = entropy(4/5) + entropy(1/5)\n",
    "\n",
    "\n",
    "information_gain_Weight = parent_entropy - ((2/5) * entropy_yes_Weight + (3/5) * entropy_no_Weight)\n",
    "\n",
    "print(\"Information Gain for Weight:\", information_gain_Weight)"
   ]
  },
  {
   "cell_type": "code",
   "execution_count": 58,
   "id": "d61d857c",
   "metadata": {},
   "outputs": [
    {
     "name": "stdout",
     "output_type": "stream",
     "text": [
      "Information Gain for Radon: 0.07290559532005603\n",
      "Information Gain for cough: 0.7219280948873623\n",
      "Information Gain for Weight: 0.17095059445466865\n"
     ]
    }
   ],
   "source": [
    "print(\"Information Gain for Radon:\", information_gain_radon)\n",
    "print(\"Information Gain for cough:\", information_gain_cough)\n",
    "print(\"Information Gain for Weight:\", information_gain_Weight)"
   ]
  },
  {
   "cell_type": "markdown",
   "id": "92f1c41d",
   "metadata": {},
   "source": [
    "## For Smoking = No"
   ]
  },
  {
   "cell_type": "code",
   "execution_count": 61,
   "id": "0584bbda",
   "metadata": {},
   "outputs": [
    {
     "name": "stdout",
     "output_type": "stream",
     "text": [
      "Entropy for radon = Yes: 0.0\n",
      "Entropy for radon = No: 0.0\n"
     ]
    }
   ],
   "source": [
    "# For Radon\n",
    "yes_radon_yes_cancer = 1/1\n",
    "yes_radon_no_cancer = 0/1\n",
    "no_radon_yes_cancer = 0/4\n",
    "no_radon_no_cancer = 4/4\n",
    "\n",
    "# Calculate entropies\n",
    "entropy_yes_radon = entropy(yes_radon_yes_cancer) + entropy(yes_radon_no_cancer)\n",
    "entropy_no_radon = entropy(no_radon_yes_cancer) + entropy(no_radon_no_cancer)\n",
    "\n",
    "print(\"Entropy for radon = Yes:\", entropy_yes_radon)\n",
    "print(\"Entropy for radon = No:\", entropy_no_radon)"
   ]
  },
  {
   "cell_type": "code",
   "execution_count": 64,
   "id": "c60081fa",
   "metadata": {},
   "outputs": [
    {
     "name": "stdout",
     "output_type": "stream",
     "text": [
      "Information Gain for Radon: 0.7219280948873623\n"
     ]
    }
   ],
   "source": [
    "parent_entropy = entropy(4/5) + entropy(1/5)\n",
    "\n",
    "information_gain_radon = parent_entropy - ((1/5) * entropy_yes_radon + (4/5) * entropy_no_radon)\n",
    "\n",
    "print(\"Information Gain for Radon:\", information_gain_radon)"
   ]
  },
  {
   "cell_type": "code",
   "execution_count": 65,
   "id": "9930d562",
   "metadata": {},
   "outputs": [
    {
     "name": "stdout",
     "output_type": "stream",
     "text": [
      "Entropy for Weight = Yes: 0.9182958340544896\n",
      "Entropy for Weight = No: 0.0\n"
     ]
    }
   ],
   "source": [
    "# For Weight Loss\n",
    "yes_Weight_yes_cancer = 1/3\n",
    "yes_Weight_no_cancer = 2/3\n",
    "no_Weight_yes_cancer = 0/2\n",
    "no_Weight_no_cancer = 2/2\n",
    "\n",
    "# Calculate entropies\n",
    "entropy_yes_Weight = entropy(yes_Weight_yes_cancer) + entropy(yes_Weight_no_cancer)\n",
    "entropy_no_Weight = entropy(no_Weight_yes_cancer) + entropy(no_Weight_no_cancer)\n",
    "\n",
    "print(\"Entropy for Weight = Yes:\", entropy_yes_Weight)\n",
    "print(\"Entropy for Weight = No:\", entropy_no_Weight)"
   ]
  },
  {
   "cell_type": "code",
   "execution_count": 66,
   "id": "d87f7d13",
   "metadata": {},
   "outputs": [
    {
     "name": "stdout",
     "output_type": "stream",
     "text": [
      "Information Gain for Weight: 0.17095059445466865\n"
     ]
    }
   ],
   "source": [
    "parent_entropy = entropy(4/5) + entropy(1/5)\n",
    "\n",
    "\n",
    "information_gain_Weight = parent_entropy - ((3/5) * entropy_yes_Weight + (2/5) * entropy_no_Weight)\n",
    "\n",
    "print(\"Information Gain for Weight:\", information_gain_Weight)"
   ]
  },
  {
   "cell_type": "code",
   "execution_count": 67,
   "id": "c4bea478",
   "metadata": {},
   "outputs": [
    {
     "name": "stdout",
     "output_type": "stream",
     "text": [
      "Information Gain for Radon: 0.7219280948873623\n",
      "Information Gain for Weight: 0.17095059445466865\n"
     ]
    }
   ],
   "source": [
    "print(\"Information Gain for Radon:\", information_gain_radon)\n",
    "print(\"Information Gain for Weight:\", information_gain_Weight)"
   ]
  },
  {
   "cell_type": "markdown",
   "id": "cf193042",
   "metadata": {},
   "source": [
    "## Training error "
   ]
  },
  {
   "cell_type": "code",
   "execution_count": 68,
   "id": "7a8002f8",
   "metadata": {},
   "outputs": [
    {
     "name": "stdout",
     "output_type": "stream",
     "text": [
      "0.0\n"
     ]
    }
   ],
   "source": [
    "Samples = 10\n",
    "Missclassfication = 0 \n",
    "Train_error = Missclassfication/Samples\n",
    "print(Train_error)"
   ]
  },
  {
   "cell_type": "markdown",
   "id": "aa2b5c5a",
   "metadata": {},
   "source": [
    "# Question 2"
   ]
  },
  {
   "cell_type": "code",
   "execution_count": 82,
   "id": "cb4a432a",
   "metadata": {},
   "outputs": [
    {
     "data": {
      "text/plain": [
       "1.4253642047367425"
      ]
     },
     "execution_count": 82,
     "metadata": {},
     "output_type": "execute_result"
    }
   ],
   "source": [
    "#(a)\n",
    "\n",
    "parent_entropy=-(0.41*math.log(0.41,2)+0.46*math.log(0.46,2)+0.13*math.log(0.13,2))\n",
    "parent_entropy"
   ]
  },
  {
   "cell_type": "code",
   "execution_count": 122,
   "id": "772f4bcf",
   "metadata": {},
   "outputs": [
    {
     "name": "stdout",
     "output_type": "stream",
     "text": [
      "x_2_left: 0.7219280948873625\n",
      "x_2_right: 1.3794821565051398\n",
      "x_2_weighted: 1.2479713441815845\n",
      "Info_gain_x_2: 0.17739286055515802\n",
      "\n",
      "x_7_left: 1.1503926143859857\n",
      "x_7_right: 0.8812908992306927\n",
      "x_7_weighted: 1.0696620998393978\n",
      "Info_gain_x_7: 0.3557021048973448\n",
      "\n",
      "y_6_left: 1.1812908992306925\n",
      "y_6_right: 0.9219280948873625\n",
      "y_6_weighted: 1.0775457774933606\n",
      "Info_gain_y_6: 0.34781842724338197\n"
     ]
    }
   ],
   "source": [
    "#(b)\n",
    "\n",
    "# For x <= 0.2\n",
    "\n",
    "x_2_left = -(0.04/0.2)*(math.log((0.04/0.2),2))-(0.16/0.2)*(math.log((0.16/0.2),2))\n",
    "\n",
    "x_2_right= -((0.41/0.8)*math.log((0.41/0.8),2) + (0.3/0.8) * math.log((0.3/0.8),2) + (0.09/0.8) * math.log((0.09/0.8),2))\n",
    "\n",
    "x_2_weighted = 0.2*x_2_left + 0.8 *x_2_right\n",
    "\n",
    "Info_gain_x_2=parent_entropy- x_2_weighted\n",
    "\n",
    "# For x <= 0.7\n",
    "\n",
    "x_7_left = -((0.2 / 0.7)*(math.log((0.2 / 0.7),2))+(0.459999 / 0.7)*(math.log((0.459999 / 0.7),2))+(0.04/0.7)*(math.log((0.04/0.7),2)))\n",
    "\n",
    "x_7_right= -((0.21/0.3)*(math.log((0.21/0.3),2))+(0.09/0.3)*(math.log((0.09/0.3),2)))\n",
    "\n",
    "x_7_weighted = 0.7*x_7_left  + 0.3 *x_7_right\n",
    "\n",
    "Info_gain_x_7=parent_entropy- x_7_weighted\n",
    "\n",
    "# For y <= 0.6\n",
    "\n",
    "\n",
    "y_6_left = -((0.09 / 0.6)*(math.log((0.09 / 0.6),2))+(0.42/0.6)*(math.log((0.42/0.6),2))+(0.09/0.6)*(math.log((0.09/0.6),2)))\n",
    "\n",
    "y_6_right= -((0.32/ 0.400000)*(math.log((0.32/ 0.400000),2))+(0.040/0.400000)*(math.log((0.040/0.400000),2))+(0.040/0.400000)*(math.log((0.040/0.400000),2)))\n",
    "\n",
    "y_6_weighted = 0.6*y_6_left  + 0.400000 *y_6_right\n",
    "\n",
    "Info_gain_y_6=parent_entropy- y_6_weighted\n",
    "\n",
    "print('x_2_left:',x_2_left)\n",
    "print('x_2_right:',x_2_right)\n",
    "print('x_2_weighted:',x_2_weighted)\n",
    "print('Info_gain_x_2:',Info_gain_x_2)\n",
    "print()\n",
    "print('x_7_left:',x_7_left)\n",
    "print('x_7_right:',x_7_right)\n",
    "print('x_7_weighted:',x_7_weighted)\n",
    "print('Info_gain_x_7:',Info_gain_x_7)\n",
    "print()\n",
    "print('y_6_left:',y_6_left)\n",
    "print('y_6_right:',y_6_right)\n",
    "print('y_6_weighted:',y_6_weighted)\n",
    "print('Info_gain_y_6:',Info_gain_y_6)\n",
    "\n",
    "\n"
   ]
  },
  {
   "cell_type": "code",
   "execution_count": 129,
   "id": "32b88fcc",
   "metadata": {},
   "outputs": [],
   "source": [
    "#(d) \n",
    "\n",
    "# Root node selected x<0.7\n",
    "\n",
    "def entropy(prob):\n",
    "    entr = 0\n",
    "    for j in prob:\n",
    "        if j != 0:  \n",
    "            entr += j * math.log(j, 2)\n",
    "    return -entr if entr != 0 else 0"
   ]
  },
  {
   "cell_type": "code",
   "execution_count": 130,
   "id": "abf79ed4",
   "metadata": {},
   "outputs": [
    {
     "name": "stdout",
     "output_type": "stream",
     "text": [
      "y_8_left: 1.4384349344259844\n",
      "y_8_right: 0.7219280948873625\n",
      "y_8_weighted: 1.2951335665182602\n",
      "Info_gain_y_8: 0.13023063821848235\n"
     ]
    }
   ],
   "source": [
    "# For y = 0.8\n",
    "\n",
    "y_8_left=entropy([0.25/0.8,0.42/0.8,0.13/0.8])\n",
    "\n",
    "\n",
    "y_8_right= entropy([0.16/0.2,0.04/0.2])\n",
    "\n",
    "\n",
    "y_8_weighted=0.8*y_8_left + 0.2*y_8_right\n",
    "\n",
    "Info_gain_y_8=parent_entropy-y_8_weighted\n",
    "\n",
    "\n",
    "print('y_8_left:',y_8_left)\n",
    "print('y_8_right:',y_8_right)\n",
    "print('y_8_weighted:',y_8_weighted)\n",
    "print('Info_gain_y_8:',Info_gain_y_8)"
   ]
  },
  {
   "cell_type": "code",
   "execution_count": 131,
   "id": "dd3ecb90",
   "metadata": {},
   "outputs": [
    {
     "name": "stdout",
     "output_type": "stream",
     "text": [
      "1.1503914187111115\n"
     ]
    }
   ],
   "source": [
    "parent_entropy_l=entropy([0.2/0.7,0.46/0.7,0.04/0.7])\n",
    "print(parent_entropy_l)"
   ]
  },
  {
   "cell_type": "code",
   "execution_count": 132,
   "id": "a9d181c4",
   "metadata": {},
   "outputs": [
    {
     "name": "stdout",
     "output_type": "stream",
     "text": [
      "Entropy for y < 0.6 (Left): 0\n",
      "Entropy for y < 0.6 (Right): 1.1488348542809168\n",
      "Total Entropy for y < 0.6: 0.32167375919865676\n",
      "Information Gain for y < 0.6: 0.8287176595124548\n",
      "Entropy for y < 0.8 (Left): 1.0270582666007908\n",
      "Entropy for y < 0.8 (Right): 0.863120568566631\n",
      "Total Entropy for y < 0.8: 0.6959895088957713\n",
      "Information Gain for y < 0.8: 0.45440190981534023\n",
      "Entropy for x < 0.2 (Left): 0.7219280948873625\n",
      "Entropy for x < 0.2 (Right): 0.9709505944546686\n",
      "Total Entropy for x < 0.2: 0.6298609162048068\n",
      "Information Gain for x < 0.2: 0.5205305025063047\n"
     ]
    }
   ],
   "source": [
    "# For y<0.6\n",
    "y06_left = entropy([1])\n",
    "print(\"Entropy for y < 0.6 (Left):\", y06_left)\n",
    "y06_right = entropy([0.2/0.28, 0.04/0.28, 0.04/0.28])\n",
    "print(\"Entropy for y < 0.6 (Right):\", y06_right)\n",
    "y06_total = 0.42 * y06_left + 0.28 * y06_right\n",
    "print(\"Total Entropy for y < 0.6:\", y06_total)\n",
    "info_gain_y06 = parent_entropy_l - y06_total\n",
    "print(\"Information Gain for y < 0.6:\", info_gain_y06)\n",
    "\n",
    "# For y<0.8\n",
    "y08_left = entropy([0.42/0.56, 0.10/0.56, 0.04/0.56])\n",
    "print(\"Entropy for y < 0.8 (Left):\", y08_left)\n",
    "y08_right = entropy([0.10/0.14, 0.04/0.14])\n",
    "print(\"Entropy for y < 0.8 (Right):\", y08_right)\n",
    "y08_total = 0.56 * y08_left + 0.14 * y08_right\n",
    "print(\"Total Entropy for y < 0.8:\", y08_total)\n",
    "info_gain_y08 = parent_entropy_l - y08_total\n",
    "print(\"Information Gain for y < 0.8:\", info_gain_y08)\n",
    "\n",
    "# For x<0.2\n",
    "x02_left = entropy([0.16/0.2, 0.04/0.2])\n",
    "print(\"Entropy for x < 0.2 (Left):\", x02_left)\n",
    "x02_right = entropy([0.2/0.5, 0.3/0.5])\n",
    "print(\"Entropy for x < 0.2 (Right):\", x02_right)\n",
    "x02_total = 0.2 * x02_left + 0.5 * x02_right\n",
    "print(\"Total Entropy for x < 0.2:\", x02_total)\n",
    "info_gain_x02 = parent_entropy_l - x02_total\n",
    "print(\"Information Gain for x < 0.2:\", info_gain_x02)\n"
   ]
  },
  {
   "cell_type": "code",
   "execution_count": 133,
   "id": "e7c2f04e",
   "metadata": {},
   "outputs": [
    {
     "name": "stdout",
     "output_type": "stream",
     "text": [
      "Entropy for right side of y < 0.6: 1.1488348542809168\n",
      "Entropy for x < 0.2 (Left): 1.0\n",
      "Entropy for x < 0.2 (Right): 0\n",
      "Total Entropy for x < 0.2: 0.08\n",
      "Information Gain for x < 0.2: 1.0688348542809167\n",
      "Entropy for y < 0.8 (Left): 0.863120568566631\n",
      "Entropy for y < 0.8 (Right): 0.863120568566631\n",
      "Total Entropy for y < 0.8: 0.2416737591986567\n",
      "Information Gain for y < 0.8: 0.9071610950822602\n"
     ]
    }
   ],
   "source": [
    "# Calculations for right side of y<0.6\n",
    "e_p_r_y06 = entropy([0.2/0.28, 0.04/0.28, 0.04/0.28])\n",
    "print(\"Entropy for right side of y < 0.6:\", e_p_r_y06)\n",
    "\n",
    "# For x<0.2\n",
    "x02_left = entropy([0.04/0.08, 0.04/0.08])\n",
    "print(\"Entropy for x < 0.2 (Left):\", x02_left)\n",
    "x02_right = entropy([0.2/0.2])\n",
    "print(\"Entropy for x < 0.2 (Right):\", x02_right)\n",
    "x02_total = 0.08 * x02_left + 0.2 * x02_right\n",
    "print(\"Total Entropy for x < 0.2:\", x02_total)\n",
    "info_gain_x02 = e_p_r_y06 - x02_total\n",
    "print(\"Information Gain for x < 0.2:\", info_gain_x02)\n",
    "\n",
    "# For y<0.8\n",
    "y08_left = entropy([0.04/0.14, 0.10/0.14])\n",
    "print(\"Entropy for y < 0.8 (Left):\", y08_left)\n",
    "y08_right = entropy([0.04/0.14, 0.10/0.14])\n",
    "print(\"Entropy for y < 0.8 (Right):\", y08_right)\n",
    "y08_total = 0.14 * y08_left + 0.14 * y08_right\n",
    "print(\"Total Entropy for y < 0.8:\", y08_total)\n",
    "info_gain_y08 = e_p_r_y06 - y08_total\n",
    "print(\"Information Gain for y < 0.8:\", info_gain_y08)\n"
   ]
  },
  {
   "cell_type": "code",
   "execution_count": 134,
   "id": "fa8b9af0",
   "metadata": {},
   "outputs": [
    {
     "name": "stdout",
     "output_type": "stream",
     "text": [
      "Entropy for parent (Right side of tree): 0.8812908992306927\n"
     ]
    }
   ],
   "source": [
    "# Right hand side of x<0.7\n",
    "\n",
    "e_p_r1 = entropy([0.21/0.3, 0.09/0.3])\n",
    "print(\"Entropy for parent (Right side of tree):\", e_p_r1)\n"
   ]
  },
  {
   "cell_type": "code",
   "execution_count": 135,
   "id": "119df2c9",
   "metadata": {},
   "outputs": [
    {
     "name": "stdout",
     "output_type": "stream",
     "text": [
      "Entropy for y<0.6 (Left side): 1.0\n",
      "Entropy for y<0.6 (Right side): 0\n",
      "Weighted entropy for y<0.6: 0.18\n",
      "Information Gain for y<0.6: 0.7012908992306928\n",
      "Entropy for y<0.3 (Left side): 0\n",
      "Entropy for y<0.3 (Right side): 0.9852281360342516\n",
      "Weighted entropy for y<0.3: 0.20689790856719284\n",
      "Information Gain for y<0.3: 0.6743929906634999\n"
     ]
    }
   ],
   "source": [
    "# For y<0.6\n",
    "y06_l = entropy([0.09/0.18, 0.09/0.18])\n",
    "print(\"Entropy for y<0.6 (Left side):\", y06_l)\n",
    "y06_r = entropy([0.12/0.12])\n",
    "print(\"Entropy for y<0.6 (Right side):\", y06_r)\n",
    "y06 = 0.18 * y06_l + 0.12 * y06_r\n",
    "print(\"Weighted entropy for y<0.6:\", y06)\n",
    "info_y06 = e_p_r1 - y06\n",
    "print(\"Information Gain for y<0.6:\", info_y06)\n",
    "\n",
    "# For y<0.3\n",
    "y03_l = entropy([0.09/0.09])\n",
    "print(\"Entropy for y<0.3 (Left side):\", y03_l)\n",
    "y03_r = entropy([0.12/0.21, 0.09/0.21])\n",
    "print(\"Entropy for y<0.3 (Right side):\", y03_r)\n",
    "y03 = 0.09 * y03_l + 0.21 * y03_r\n",
    "print(\"Weighted entropy for y<0.3:\", y03)\n",
    "info_y03 = e_p_r1 - y03\n",
    "print(\"Information Gain for y<0.3:\", info_y03)\n"
   ]
  },
  {
   "cell_type": "markdown",
   "id": "2f9b6fae",
   "metadata": {},
   "source": [
    "# Question 3"
   ]
  },
  {
   "cell_type": "code",
   "execution_count": 71,
   "id": "a38b0c4b",
   "metadata": {},
   "outputs": [
    {
     "name": "stdout",
     "output_type": "stream",
     "text": [
      "0.5\n"
     ]
    }
   ],
   "source": [
    "#(a)\n",
    "class_co = 10\n",
    "class_c1 = 10\n",
    "tot = class_co + class_c1\n",
    "p_co = class_co/tot\n",
    "p_c1 = class_c1/tot\n",
    "gini_index = 1 - (p_co**2 + p_c1**2)\n",
    "print(gini_index)\n"
   ]
  },
  {
   "cell_type": "code",
   "execution_count": 72,
   "id": "998e495e",
   "metadata": {},
   "outputs": [],
   "source": [
    "# (b) \n",
    "# For each Customer ID there is no impurity , So Gini index is 0"
   ]
  },
  {
   "cell_type": "code",
   "execution_count": 73,
   "id": "abf22e01",
   "metadata": {},
   "outputs": [
    {
     "name": "stdout",
     "output_type": "stream",
     "text": [
      "0.48\n"
     ]
    }
   ],
   "source": [
    "#(c)     \n",
    "n_instances = 20\n",
    "n_male = 10\n",
    "n_female = 10\n",
    "p_male = n_male / n_instances\n",
    "p_female = n_female / n_instances\n",
    "p_male_co = 6/n_male\n",
    "p_male_c1 = 4/n_male\n",
    "p_female_co = 4/n_female\n",
    "p_female_c1 = 6/n_female\n",
    "gini_male = 1 - (p_male_co ** 2  + p_male_c1 ** 2)\n",
    "gini_female = 1 - (p_female_co ** 2 + p_female_c1 ** 2)\n",
    "gender_gini_index = (p_male * gini_male) + (p_female * gini_female)\n",
    "print(gender_gini_index)"
   ]
  },
  {
   "cell_type": "code",
   "execution_count": 74,
   "id": "f3ccf676",
   "metadata": {},
   "outputs": [
    {
     "name": "stdout",
     "output_type": "stream",
     "text": [
      "Overall Gini index for Car Type (multiway split): 0.16250000000000003\n"
     ]
    }
   ],
   "source": [
    "#(d)     \n",
    "num_instances = 20\n",
    "num_family = 4\n",
    "num_sports = 8\n",
    "num_luxury = 8\n",
    "prob_family = num_family / num_instances\n",
    "prob_sports = num_sports / num_instances\n",
    "prob_luxury = num_luxury / num_instances\n",
    "p_family_co = 1/num_family\n",
    "p_family_c1 = 3/num_family\n",
    "p_sports_co = 8/num_sports\n",
    "p_sports_c1 = 0/num_sports\n",
    "p_luxury_co = 1/num_luxury\n",
    "p_luxury_c1 = 7/num_luxury\n",
    "gini_family = 1 - (p_family_co ** 2  + p_family_c1 ** 2)\n",
    "gini_sports = 1 - (p_sports_co ** 2  + p_sports_c1 ** 2)\n",
    "gini_luxury = 1 - (p_luxury_co ** 2  + p_luxury_c1 ** 2)\n",
    "overall_gini_index = prob_family * gini_family + prob_sports * gini_sports + prob_luxury * gini_luxury\n",
    "print(\"Overall Gini index for Car Type (multiway split):\", overall_gini_index)"
   ]
  },
  {
   "cell_type": "code",
   "execution_count": 75,
   "id": "ea3e5448",
   "metadata": {},
   "outputs": [
    {
     "name": "stdout",
     "output_type": "stream",
     "text": [
      "0.49142857142857144\n"
     ]
    }
   ],
   "source": [
    "#(e)   \n",
    "num_instances = 20\n",
    "num_small = 5\n",
    "num_medium = 7\n",
    "num_large = 4\n",
    "num_extra_large = 4\n",
    "\n",
    "prob_small = num_small / num_instances\n",
    "prob_medium = num_medium/ num_instances\n",
    "prob_large = num_large / num_instances\n",
    "prob_extra_large = num_extra_large/ num_instances\n",
    "\n",
    "p_small_co = 3/num_small\n",
    "p_small_c1 = 2/num_small\n",
    "\n",
    "p_medium_co = 3/num_medium \n",
    "p_medium_c1 = 4/num_medium \n",
    "\n",
    "p_large_co = 2/num_large\n",
    "p_large_c1 = 2/num_large\n",
    "\n",
    "p_extra_large_co = 2/num_extra_large\n",
    "p_extra_large_c1 = 2/num_extra_large\n",
    "\n",
    "gini_small = 1 - (p_small_co ** 2  + p_small_c1 ** 2)\n",
    "gini_medium = 1 - (p_medium_co ** 2  + p_medium_c1 ** 2)\n",
    "gini_large = 1 - (p_large_co ** 2  + p_large_c1 ** 2)\n",
    "gini_extra_large = 1 - (p_extra_large_co ** 2  + p_extra_large_c1 ** 2)\n",
    "\n",
    "overall_gini_index = prob_small * gini_small + prob_medium * gini_medium + prob_large * gini_large + prob_extra_large * gini_extra_large\n",
    "\n",
    "print(overall_gini_index)"
   ]
  },
  {
   "cell_type": "markdown",
   "id": "da5e3180",
   "metadata": {},
   "source": [
    "# Question 6"
   ]
  },
  {
   "cell_type": "code",
   "execution_count": 136,
   "id": "6fb10c19",
   "metadata": {},
   "outputs": [],
   "source": [
    "def gini(prob):\n",
    "    gini_value = 0\n",
    "    for value in prob:\n",
    "        gini_value += value ** 2\n",
    "    return 1 - gini_value"
   ]
  },
  {
   "cell_type": "code",
   "execution_count": 141,
   "id": "166f2aaf",
   "metadata": {},
   "outputs": [
    {
     "name": "stdout",
     "output_type": "stream",
     "text": [
      "Gini index for above x<0.5: 0\n",
      "Gini index for below x<0.5: 0.4992\n",
      "Weighted Gini index for x<0.5: 0.2496\n",
      "\n",
      "Gini index for above y<0.4: 0.48\n",
      "Gini index for below y<0.4: 0\n",
      "Weighted Gini index for y<0.4: 0.288\n",
      "\n",
      "Gini index for above y<0.4: 0.42000000000000004\n",
      "Gini index for below y<0.4: 0.33673469387755084\n",
      "Weighted Gini index for y<0.4: 0.36171428571428554\n",
      "\n",
      "Gini index for above x<0.2: 0.3487500000000001\n",
      "Gini index for below x<0.2: 0.41999999999999993\n",
      "Weighted Gini index for x<0.2: 0.3630000000000001\n"
     ]
    }
   ],
   "source": [
    "#(a)\n",
    "\n",
    "# For root node\n",
    "\n",
    "above_gini_x5 = gini([1, 0])\n",
    "below_gini_x5 = gini([0.26/0.5, 0.24/0.5])\n",
    "weighted_gini_index = 0.5 * below_gini_x5 + 0.5 * above_gini_x5\n",
    "\n",
    "above_gini_y4 = gini([0.36/0.6, 0.24/0.6])\n",
    "below_gini_y4 = gini([1])\n",
    "weighted_gini_index_y4 = 0.4 * below_gini_y4 + 0.6 * above_gini_y4\n",
    "\n",
    "\n",
    "above_gini_y7=gini([0.21/0.3,0.09/0.3])\n",
    "below_gini_y7=gini([0.55/0.7,0.15/0.7])\n",
    "weighted_gini_index_y7=0.7*below_gini_y7 + 0.3*above_gini_y7\n",
    "\n",
    "\n",
    "above_gini_x2=gini([0.62/0.8,0.18/0.8])\n",
    "below_gini_x2=gini([0.14/0.2,0.06/0.2])\n",
    "weighted_gini_index_x2=0.2*below_gini_x2 + 0.8*above_gini_x2\n",
    "\n",
    "\n",
    "\n",
    "print(\"Gini index for above x<0.5:\", above_gini_x5)\n",
    "print(\"Gini index for below x<0.5:\", below_gini_x5)\n",
    "print(\"Weighted Gini index for x<0.5:\", weighted_gini_index)\n",
    "print()\n",
    "print(\"Gini index for above y<0.4:\", above_gini_y4)\n",
    "print(\"Gini index for below y<0.4:\", below_gini_y4)\n",
    "print(\"Weighted Gini index for y<0.4:\", weighted_gini_index_y4)\n",
    "print()\n",
    "print(\"Gini index for above y<0.4:\", above_gini_y7)\n",
    "print(\"Gini index for below y<0.4:\", below_gini_y7)\n",
    "print(\"Weighted Gini index for y<0.4:\", weighted_gini_index_y7)\n",
    "print()\n",
    "print(\"Gini index for above x<0.2:\", above_gini_x2)\n",
    "print(\"Gini index for below x<0.2:\", below_gini_x2)\n",
    "print(\"Weighted Gini index for x<0.2:\", weighted_gini_index_x2)\n"
   ]
  },
  {
   "cell_type": "markdown",
   "id": "ee412350",
   "metadata": {},
   "source": [
    "## Root node will be x<=0.5"
   ]
  },
  {
   "cell_type": "code",
   "execution_count": 147,
   "id": "6d5ac791",
   "metadata": {},
   "outputs": [
    {
     "name": "stdout",
     "output_type": "stream",
     "text": [
      "Weighted Gini index for y<0.4 and x<0.5: 0.1919999999999999\n",
      "Gini index for less y<0.4 and x<0.5: 0\n",
      "Gini index for above y<0.4 and x<0.5: 0.31999999999999984\n",
      "\n",
      "Weighted Gini index for y<0.7 and x<0.5: 0.44399999999999995\n",
      "Gini index for above y<0.7 and x<0.5: 0.48\n",
      "Gini index for less y<0.7 and x<0.5: 0.4897959183673468\n",
      "\n",
      "Gini index for x > 0.5: 0.41999999999999993\n",
      "Gini index for x <= 0.5: 0.48\n",
      "Weighted Gini index for y > 0.7, x <= 0.5: 0.44399999999999995\n"
     ]
    }
   ],
   "source": [
    "# Level 2 left\n",
    "\n",
    "\n",
    "above_gini_y4_lx5 = gini([0.06/0.3, 0.24/0.3])\n",
    "below_gini_y4_lx5 = gini([1, 0])\n",
    "weighted_gini_y4_lx5 = (0.3/0.5) * above_gini_y4_lx5\n",
    "\n",
    "\n",
    "above_gini_y7_lx5 = gini([0.06/0.15, 0.09/0.15])\n",
    "below_gini_y7_lx5 = gini([0.2/0.35, 0.15/0.35])\n",
    "weighted_gini_y7_lx5 = (0.15/0.5) * above_gini_y7_lx5 + (0.35/0.5) * below_gini_y7_lx5\n",
    "\n",
    "\n",
    "above_gini_x2_lx5 = gini([0.14/0.2, 0.06/0.2])\n",
    "below_gini_x2_lx5 = gini([0.12/0.3, 0.18/0.3])\n",
    "weighted_gini_y7_lx5 = (0.3/0.5) * above_gini_x2_lx5 + (0.2/0.5) * below_gini_x2_lx5\n",
    "\n",
    "\n",
    "\n",
    "\n",
    "print(\"Weighted Gini index for y<0.4 and x<0.5:\", weighted_gini_y4_lx5)\n",
    "print(\"Gini index for less y<0.4 and x<0.5:\", below_gini_y4_lx5)\n",
    "print(\"Gini index for above y<0.4 and x<0.5:\", above_gini_y4_lx5)\n",
    "print()\n",
    "print(\"Weighted Gini index for y<0.7 and x<0.5:\", weighted_gini_y7_lx5)\n",
    "print(\"Gini index for above y<0.7 and x<0.5:\", above_gini_y7_lx5)\n",
    "print(\"Gini index for less y<0.7 and x<0.5:\", below_gini_y7_lx5)\n",
    "print()\n",
    "print(\"Gini index for x > 0.5:\", above_gini_x2_lx5)\n",
    "print(\"Gini index for x <= 0.5:\", below_gini_x2_lx5)\n",
    "print(\"Weighted Gini index for y > 0.7, x <= 0.5:\", weighted_gini_y7_lx5)\n",
    "\n"
   ]
  },
  {
   "cell_type": "markdown",
   "id": "069be22a",
   "metadata": {},
   "source": [
    "# Left node will be y<=0.4"
   ]
  },
  {
   "cell_type": "code",
   "execution_count": 152,
   "id": "2c7775af",
   "metadata": {},
   "outputs": [
    {
     "name": "stdout",
     "output_type": "stream",
     "text": [
      "Gini index for y > 0.7: 0.0\n",
      "Gini index for y <= 0.7: 0.0\n",
      "Weighted Gini index for y > 0.7, x > 0.5: 0.0\n",
      "\n",
      "Gini index for x > 0.5: 0.0\n",
      "Gini index for x <= 0.5: 1\n",
      "Weighted Gini index for x > 0.5, x > 0.5: 0.0\n"
     ]
    }
   ],
   "source": [
    "# Level 2 right\n",
    "\n",
    "\n",
    "\n",
    "above_y7 = gini([0.15/0.15, 0/0.15])\n",
    "below_y7 = gini([0.35/0.35, 0/0.35])\n",
    "weighted_gini_y7_gx5 = (0.15/0.5) * above_y7 + (0.35/0.5) * below_y7\n",
    "\n",
    "\n",
    "above_x2 = gini([0.5/0.5, 0])\n",
    "below_x2 = gini([0, 0])\n",
    "weighted_gini_x2_gx5 = 0 * below_x2 + above_x2 * (0.5/0.5)\n",
    "\n",
    "print(\"Gini index for y > 0.7:\", above_y7)\n",
    "print(\"Gini index for y <= 0.7:\", below_y7)\n",
    "print(\"Weighted Gini index for y > 0.7, x > 0.5:\", weighted_gini_y7_gx5)\n",
    "\n",
    "print()\n",
    "\n",
    "\n",
    "# Print results\n",
    "print(\"Gini index for x > 0.5:\", above_x2)\n",
    "print(\"Gini index for x <= 0.5:\", below_x2)\n",
    "print(\"Weighted Gini index for x > 0.5, x > 0.5:\", weighted_gini_x2_gx5)\n",
    "\n",
    "\n"
   ]
  },
  {
   "cell_type": "code",
   "execution_count": 154,
   "id": "309f3510",
   "metadata": {},
   "outputs": [
    {
     "name": "stdout",
     "output_type": "stream",
     "text": [
      "0.06\n"
     ]
    }
   ],
   "source": [
    "#(b)\n",
    "\n",
    "# Missclassification X coordinates = 0 to 0.2\n",
    "# Missclassification Y coordinates = 0.7 to 1.0\n",
    "\n",
    "error = 0.2*0.3\n",
    "print(error)\n",
    "\n"
   ]
  },
  {
   "cell_type": "markdown",
   "id": "042320a5",
   "metadata": {},
   "source": [
    "# Rightnode will be A"
   ]
  },
  {
   "cell_type": "markdown",
   "id": "b4916ed1",
   "metadata": {},
   "source": [
    "# Question 7"
   ]
  },
  {
   "cell_type": "code",
   "execution_count": 78,
   "id": "c69c259b",
   "metadata": {},
   "outputs": [
    {
     "name": "stdout",
     "output_type": "stream",
     "text": [
      "1.0\n"
     ]
    }
   ],
   "source": [
    "#a)   \n",
    "\n",
    "import math\n",
    "\n",
    "total_instances = 20\n",
    "positive_instances = 10\n",
    "negative_instances = 10\n",
    "\n",
    "p_positive_before = positive_instances / total_instances\n",
    "p_negative_before = negative_instances / total_instances\n",
    "\n",
    "entropy_before = -((p_positive_before * math.log2(p_positive_before)) + (p_negative_before * math.log2(p_negative_before)))\n",
    "\n",
    "entropy_after = 0\n",
    "\n",
    "information_gain = entropy_before - entropy_after\n",
    "\n",
    "print(information_gain)"
   ]
  },
  {
   "cell_type": "code",
   "execution_count": 79,
   "id": "25112b4c",
   "metadata": {},
   "outputs": [
    {
     "name": "stdout",
     "output_type": "stream",
     "text": [
      "0.5310044064107188\n"
     ]
    }
   ],
   "source": [
    "#b)\n",
    "\n",
    "import math\n",
    "total_instances = 20\n",
    "positive_left = 9\n",
    "negative_left = 1\n",
    "positive_right = 1\n",
    "negative_right = 9\n",
    "\n",
    "p_positive_before = (positive_left + positive_right) / total_instances\n",
    "p_negative_before = (negative_left + negative_right) / total_instances\n",
    "\n",
    "entropy_before = -((p_positive_before * math.log2(p_positive_before)) + (p_negative_before * math.log2(p_negative_before)))\n",
    "\n",
    "n_left = positive_left + negative_left\n",
    "n_right = positive_right + negative_right\n",
    "p_left = n_left / total_instances\n",
    "p_right = n_right / total_instances\n",
    "\n",
    "entropy_left = -((positive_left / n_left * math.log2(positive_left / n_left)) + (negative_left / n_left * math.log2(negative_left / n_left)))\n",
    "entropy_right = -((positive_right / n_right * math.log2(positive_right / n_right)) + (negative_right / n_right * math.log2(negative_right / n_right)))\n",
    "\n",
    "information_gain = entropy_before - (p_left * entropy_left + p_right * entropy_right)\n",
    "\n",
    "print(information_gain)"
   ]
  },
  {
   "cell_type": "code",
   "execution_count": 80,
   "id": "2726eeff",
   "metadata": {},
   "outputs": [
    {
     "name": "stdout",
     "output_type": "stream",
     "text": [
      "Gain Ratio: 0.23137821315975915\n"
     ]
    }
   ],
   "source": [
    "#d)\n",
    "\n",
    "import math\n",
    "\n",
    "total_instances = 20\n",
    "positive_instances = 10\n",
    "negative_instances = 10\n",
    "num_unique_ids = 20  \n",
    "\n",
    "p_positive = positive_instances / total_instances\n",
    "p_negative = negative_instances / total_instances\n",
    "entropy_before_split = - (p_positive * math.log2(p_positive) + p_negative * math.log2(p_negative))\n",
    "\n",
    "\n",
    "entropy_after_split_weighted_avg = 0\n",
    "\n",
    "information_gain = entropy_before_split - entropy_after_split_weighted_avg\n",
    "\n",
    "split_information = - sum([(1 / num_unique_ids) * math.log2(1 / num_unique_ids) for _ in range(num_unique_ids)])\n",
    "\n",
    "gain_ratio = information_gain / split_information\n",
    "\n",
    "print(\"Gain Ratio:\", gain_ratio)"
   ]
  },
  {
   "cell_type": "code",
   "execution_count": 81,
   "id": "6e72d22d",
   "metadata": {},
   "outputs": [
    {
     "name": "stdout",
     "output_type": "stream",
     "text": [
      "Gain Ratio for Handedness: 0.5310044064107188\n"
     ]
    }
   ],
   "source": [
    "#e)\n",
    "\n",
    "import math\n",
    "total_instances = 20\n",
    "positive_left = 9\n",
    "negative_left = 1\n",
    "positive_right = 1\n",
    "negative_right = 9\n",
    "\n",
    "p_positive = (positive_left + positive_right) / total_instances\n",
    "p_negative = (negative_left + negative_right) / total_instances\n",
    "entropy_before_split = - (p_positive * math.log2(p_positive) + p_negative * math.log2(p_negative))\n",
    "\n",
    "p_positive_left = positive_left / (positive_left + negative_left)\n",
    "p_negative_left = negative_left / (positive_left + negative_left)\n",
    "entropy_left = - (p_positive_left * math.log2(p_positive_left) + p_negative_left * math.log2(p_negative_left))\n",
    "\n",
    "p_positive_right = positive_right / (positive_right + negative_right)\n",
    "p_negative_right = negative_right / (positive_right + negative_right)\n",
    "entropy_right = - (p_positive_right * math.log2(p_positive_right) + p_negative_right * math.log2(p_negative_right))\n",
    "\n",
    "entropy_after_split_weighted_avg = (positive_left + negative_left) / total_instances * entropy_left + (positive_right + negative_right) / total_instances * entropy_right\n",
    "\n",
    "split_information = - ((10 / 20) * math.log2(10 / 20) + (10 / 20) * math.log2(10 / 20))\n",
    "\n",
    "information_gain = entropy_before_split - entropy_after_split_weighted_avg\n",
    "gain_ratio = information_gain / split_information\n",
    "\n",
    "print(\"Gain Ratio for Handedness:\", gain_ratio)"
   ]
  }
 ],
 "metadata": {
  "kernelspec": {
   "display_name": "Python 3 (ipykernel)",
   "language": "python",
   "name": "python3"
  },
  "language_info": {
   "codemirror_mode": {
    "name": "ipython",
    "version": 3
   },
   "file_extension": ".py",
   "mimetype": "text/x-python",
   "name": "python",
   "nbconvert_exporter": "python",
   "pygments_lexer": "ipython3",
   "version": "3.11.4"
  }
 },
 "nbformat": 4,
 "nbformat_minor": 5
}
